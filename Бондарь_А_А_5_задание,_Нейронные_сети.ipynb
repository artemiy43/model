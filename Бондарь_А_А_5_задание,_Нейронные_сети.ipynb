{
  "nbformat": 4,
  "nbformat_minor": 0,
  "metadata": {
    "colab": {
      "provenance": [],
      "gpuType": "T4",
      "include_colab_link": true
    },
    "kernelspec": {
      "name": "python3",
      "display_name": "Python 3"
    },
    "accelerator": "GPU"
  },
  "cells": [
    {
      "cell_type": "markdown",
      "metadata": {
        "id": "view-in-github",
        "colab_type": "text"
      },
      "source": [
        "<a href=\"https://colab.research.google.com/github/artemiy43/model/blob/main/%D0%91%D0%BE%D0%BD%D0%B4%D0%B0%D1%80%D1%8C_%D0%90_%D0%90_5_%D0%B7%D0%B0%D0%B4%D0%B0%D0%BD%D0%B8%D0%B5%2C_%D0%9D%D0%B5%D0%B9%D1%80%D0%BE%D0%BD%D0%BD%D1%8B%D0%B5_%D1%81%D0%B5%D1%82%D0%B8.ipynb\" target=\"_parent\"><img src=\"https://colab.research.google.com/assets/colab-badge.svg\" alt=\"Open In Colab\"/></a>"
      ]
    },
    {
      "cell_type": "markdown",
      "source": [
        "Перед запуском данного борда необходимо сделать следующее:\n",
        "\n",
        "0. Сделать копию борда через меню \"Файл\" / \"File\".\n",
        "1. Выбрать пункт \"Среда выполнения\" или \"Runtime\" и выберите GPU в качестве аппаратного ускорителя в пункте меню \"Сменить среду выполнения\".\n",
        "2. При работе локально рекомендуется устанавливать именно в таком порядке как указано в этом борде, т.е. сначала TensorFlow, потом Keras.\n"
      ],
      "metadata": {
        "id": "jDpcZ7wo8L5A"
      }
    },
    {
      "cell_type": "markdown",
      "metadata": {
        "id": "tSsFNcn3umTW"
      },
      "source": [
        "# Нейронные сети и Keras: быстрый старт\n",
        "\n",
        "Перед запуском данного борда необходимо сделать следующее:\n",
        "\n",
        "0. Сделать копию борда через меню \"Файл\" / \"File\".\n",
        "1. Выбрать пункт \"Среда выполнения\" или \"Runtime\" и выберите GPU в качестве аппаратного ускорителя в пункте меню \"Сменить среду выполнения\".\n",
        "2. При работе локально рекомендуется устанавливать именно в таком порядке как указано в этом борде, т.е. сначала TensorFlow, потом Keras.\n",
        "\n"
      ]
    },
    {
      "cell_type": "markdown",
      "metadata": {
        "id": "x1BwVpklQzUN"
      },
      "source": [
        "## **Глубокое машинное обучение**\n",
        "\n",
        "<img src=\"https://evilinside.ru/wp-content/uploads/2018/12/mashinnoe-obuchenie-dlya-lyudej-razbiraemsya-prostymi-slovami-5c129b36b6ca3.jpg\" width=\"500\">\n"
      ]
    },
    {
      "cell_type": "markdown",
      "metadata": {
        "id": "2fhp5iHtcvC6"
      },
      "source": [
        "## 1) Что такое нейросеть?\n",
        "\n",
        "Концепции нейрона, полносвязного слоя, глубокого обучения.\n",
        "Простейшая нейросеть состоит из **нейронов** - вычислительных узлов.\n",
        "\n",
        "<img src=\"https://evilinside.ru/wp-content/uploads/2018/12/mashinnoe-obuchenie-dlya-lyudej-razbiraemsya-prostymi-slovami-5c129b5d73101.jpg\" width=\"400\">\n",
        "\n",
        "\n",
        "\n",
        "\n",
        "\n",
        "\n",
        "\n",
        "\n",
        "\n",
        "\n",
        "\n"
      ]
    },
    {
      "cell_type": "markdown",
      "metadata": {
        "id": "_BsI7KjzjfYn"
      },
      "source": [
        "### Dense Layer (Полносвязный слой)\n"
      ]
    },
    {
      "cell_type": "markdown",
      "metadata": {
        "id": "ENrDTsViFfFr"
      },
      "source": [
        "\n",
        "\n",
        "Нейроны объединяются в слои. Из рассмотренной выше модели нейронов получаются **dense** (полносвязные) слои нейронов: все элементы входных данных связаны с каждым нейроном.\n",
        "\n",
        "Слои нейронов между входными и выходными данными называются **hidden** (скрытыми) слоями. Чем больше слоев, тем **глубже** нейросеть.\n",
        "\n",
        "\n",
        "\n",
        "<img src=\"https://neurohive.io/wp-content/uploads/2018/07/neuronnaya-set.gif\" width=\"500\">\n"
      ]
    },
    {
      "cell_type": "markdown",
      "metadata": {
        "id": "Z5VdD15p1FYI"
      },
      "source": [
        "### Глубокое обучение\n",
        "\n",
        "\n",
        "\n",
        "\n",
        "\n",
        "\n",
        "\n",
        "\n"
      ]
    },
    {
      "cell_type": "markdown",
      "metadata": {
        "id": "gs07E484jrk4"
      },
      "source": [
        "Совместное обучение большого числа различных слоев нейросети.\n",
        "\n",
        "*   Нейросеть можно строить из множества \"блоков\" (слоев), как конструктор\n",
        "*   Каждый блок может обладать своей архитектурой, независимо вычисляя выходные данные и градиенты.\n",
        "\n",
        "<table>\n",
        "<tr>\n",
        "<td><img src=\"https://spectrum.ieee.org/image/MjkxMjcwNg.octet-stream\" width=\"400\"></td>\n",
        "<td><img src=\"https://img.icons8.com/plasticine/2x/arrow.png\" width=\"200\"></td>\n",
        "<td><img src=\"https://pics.livejournal.com/xotab_81/pic/001zc7aq\" width=\"500\"></td>\n",
        "</tr>\n"
      ]
    },
    {
      "cell_type": "markdown",
      "metadata": {
        "id": "Dxl38BxDkwgn"
      },
      "source": [
        "## 2) Библиотека Keras\n",
        "\n",
        "Основные возможности"
      ]
    },
    {
      "cell_type": "markdown",
      "metadata": {
        "id": "eKvb8oJol-2I"
      },
      "source": [
        "<img src=\"https://keras.io/img/keras-logo-small-wb.png\" width=\"300\">\n",
        "\n",
        "* Библиотека для машинного обучения (прежде всего, для обучения нейронных сетей)\n",
        "\n",
        "* **Keras**  - удобный \"пользовательский интерфейс\" для более низкоуровневых библиотек (например, TensorFlow)\n",
        "\n",
        "* Основные принципы:\n",
        "    1. Удобство использования\n",
        "    2. Модульность\n",
        "    3. Масштабируемость\n",
        "    4. Работа с Python\n",
        "    \n",
        "Инструмент с низким порогом входа, подходящий как продвинутым исследователям, так и любителям."
      ]
    },
    {
      "cell_type": "markdown",
      "metadata": {
        "id": "g6eO0YUeWe7V"
      },
      "source": [
        "**keras** - одна из самых популярных библиотек для глубинного обучения\n",
        "(надстройка над другими библиотеками).\n",
        "\n",
        "**keras** использует библиотеку **tensorflow** от Google, которая позволяет строить нейронные сети с высокой эффективностью и скоростью.\n",
        "Именно поэтому сейчас **tensorflow** - наиболее популярная библиотека для глубинного обучения."
      ]
    },
    {
      "cell_type": "markdown",
      "metadata": {
        "id": "fXI034Rim7KK"
      },
      "source": [
        "## 3) MNIST\n",
        "\n",
        "Построение нейронной сети для решения задачи классификации рукописных цифр\n",
        "![](https://upload.wikimedia.org/wikipedia/commons/2/27/MnistExamples.png)"
      ]
    },
    {
      "cell_type": "markdown",
      "metadata": {
        "id": "7ofxvJirWvlp"
      },
      "source": [
        "### Нам нужно распознать рукописные цифры по их изображениям.\n",
        "\n",
        "Так как цифр 10, то в нашей задаче классификации 10 классов.\n",
        "\n",
        "Наш набор данных MNIST часто используются для демонстрации возможностей различных алгоритмов машинного и глубинного обучения, так как для него достаточно просто добиться хорошей точности работы."
      ]
    },
    {
      "cell_type": "markdown",
      "metadata": {
        "id": "Tl72AZCwdwn4"
      },
      "source": [
        "### Процесс анализа данных:\n",
        "1. Загрузим данные для обучения и тестирования\n",
        "2. Предобработаем данные\n",
        "3. Создадим модель для обучения\n",
        "4. Обучим модель\n",
        "5. Протестируем модель\n",
        "6. Попробуем улучшить модель"
      ]
    },
    {
      "cell_type": "markdown",
      "metadata": {
        "id": "8uG1CkzPL1XD"
      },
      "source": [
        "### Пререквизиты:\n",
        "* `!pip install numpy`\n",
        "* `!pip install pandas`\n",
        "* `!pip install tensorflow`\n",
        "* `!pip install keras`"
      ]
    },
    {
      "cell_type": "markdown",
      "metadata": {
        "id": "RxgnPcOV3yQQ"
      },
      "source": [
        "Выполните следующую ячейку, нажав `Shift + Enter`. Менеджер пакетов питона `pip` выполнит установку пакетов `numpy`, `pandas`, `tensorflow` и `keras`"
      ]
    },
    {
      "cell_type": "code",
      "metadata": {
        "id": "85JkeJgaL1XF",
        "colab": {
          "base_uri": "https://localhost:8080/"
        },
        "outputId": "af47bbec-8cf7-4768-c9ab-a7c6b74fa5a1"
      },
      "source": [
        "!pip install numpy\n",
        "!pip install pandas\n",
        "!pip install tensorflow\n",
        "!pip install keras\n",
        "!pip install keras.utils"
      ],
      "execution_count": 1,
      "outputs": [
        {
          "output_type": "stream",
          "name": "stdout",
          "text": [
            "Requirement already satisfied: numpy in /usr/local/lib/python3.10/dist-packages (1.23.5)\n",
            "Requirement already satisfied: pandas in /usr/local/lib/python3.10/dist-packages (1.5.3)\n",
            "Requirement already satisfied: python-dateutil>=2.8.1 in /usr/local/lib/python3.10/dist-packages (from pandas) (2.8.2)\n",
            "Requirement already satisfied: pytz>=2020.1 in /usr/local/lib/python3.10/dist-packages (from pandas) (2023.3.post1)\n",
            "Requirement already satisfied: numpy>=1.21.0 in /usr/local/lib/python3.10/dist-packages (from pandas) (1.23.5)\n",
            "Requirement already satisfied: six>=1.5 in /usr/local/lib/python3.10/dist-packages (from python-dateutil>=2.8.1->pandas) (1.16.0)\n",
            "Requirement already satisfied: tensorflow in /usr/local/lib/python3.10/dist-packages (2.15.0)\n",
            "Requirement already satisfied: absl-py>=1.0.0 in /usr/local/lib/python3.10/dist-packages (from tensorflow) (1.4.0)\n",
            "Requirement already satisfied: astunparse>=1.6.0 in /usr/local/lib/python3.10/dist-packages (from tensorflow) (1.6.3)\n",
            "Requirement already satisfied: flatbuffers>=23.5.26 in /usr/local/lib/python3.10/dist-packages (from tensorflow) (23.5.26)\n",
            "Requirement already satisfied: gast!=0.5.0,!=0.5.1,!=0.5.2,>=0.2.1 in /usr/local/lib/python3.10/dist-packages (from tensorflow) (0.5.4)\n",
            "Requirement already satisfied: google-pasta>=0.1.1 in /usr/local/lib/python3.10/dist-packages (from tensorflow) (0.2.0)\n",
            "Requirement already satisfied: h5py>=2.9.0 in /usr/local/lib/python3.10/dist-packages (from tensorflow) (3.9.0)\n",
            "Requirement already satisfied: libclang>=13.0.0 in /usr/local/lib/python3.10/dist-packages (from tensorflow) (16.0.6)\n",
            "Requirement already satisfied: ml-dtypes~=0.2.0 in /usr/local/lib/python3.10/dist-packages (from tensorflow) (0.2.0)\n",
            "Requirement already satisfied: numpy<2.0.0,>=1.23.5 in /usr/local/lib/python3.10/dist-packages (from tensorflow) (1.23.5)\n",
            "Requirement already satisfied: opt-einsum>=2.3.2 in /usr/local/lib/python3.10/dist-packages (from tensorflow) (3.3.0)\n",
            "Requirement already satisfied: packaging in /usr/local/lib/python3.10/dist-packages (from tensorflow) (23.2)\n",
            "Requirement already satisfied: protobuf!=4.21.0,!=4.21.1,!=4.21.2,!=4.21.3,!=4.21.4,!=4.21.5,<5.0.0dev,>=3.20.3 in /usr/local/lib/python3.10/dist-packages (from tensorflow) (3.20.3)\n",
            "Requirement already satisfied: setuptools in /usr/local/lib/python3.10/dist-packages (from tensorflow) (67.7.2)\n",
            "Requirement already satisfied: six>=1.12.0 in /usr/local/lib/python3.10/dist-packages (from tensorflow) (1.16.0)\n",
            "Requirement already satisfied: termcolor>=1.1.0 in /usr/local/lib/python3.10/dist-packages (from tensorflow) (2.4.0)\n",
            "Requirement already satisfied: typing-extensions>=3.6.6 in /usr/local/lib/python3.10/dist-packages (from tensorflow) (4.5.0)\n",
            "Requirement already satisfied: wrapt<1.15,>=1.11.0 in /usr/local/lib/python3.10/dist-packages (from tensorflow) (1.14.1)\n",
            "Requirement already satisfied: tensorflow-io-gcs-filesystem>=0.23.1 in /usr/local/lib/python3.10/dist-packages (from tensorflow) (0.34.0)\n",
            "Requirement already satisfied: grpcio<2.0,>=1.24.3 in /usr/local/lib/python3.10/dist-packages (from tensorflow) (1.60.0)\n",
            "Requirement already satisfied: tensorboard<2.16,>=2.15 in /usr/local/lib/python3.10/dist-packages (from tensorflow) (2.15.1)\n",
            "Requirement already satisfied: tensorflow-estimator<2.16,>=2.15.0 in /usr/local/lib/python3.10/dist-packages (from tensorflow) (2.15.0)\n",
            "Requirement already satisfied: keras<2.16,>=2.15.0 in /usr/local/lib/python3.10/dist-packages (from tensorflow) (2.15.0)\n",
            "Requirement already satisfied: wheel<1.0,>=0.23.0 in /usr/local/lib/python3.10/dist-packages (from astunparse>=1.6.0->tensorflow) (0.42.0)\n",
            "Requirement already satisfied: google-auth<3,>=1.6.3 in /usr/local/lib/python3.10/dist-packages (from tensorboard<2.16,>=2.15->tensorflow) (2.17.3)\n",
            "Requirement already satisfied: google-auth-oauthlib<2,>=0.5 in /usr/local/lib/python3.10/dist-packages (from tensorboard<2.16,>=2.15->tensorflow) (1.2.0)\n",
            "Requirement already satisfied: markdown>=2.6.8 in /usr/local/lib/python3.10/dist-packages (from tensorboard<2.16,>=2.15->tensorflow) (3.5.1)\n",
            "Requirement already satisfied: requests<3,>=2.21.0 in /usr/local/lib/python3.10/dist-packages (from tensorboard<2.16,>=2.15->tensorflow) (2.31.0)\n",
            "Requirement already satisfied: tensorboard-data-server<0.8.0,>=0.7.0 in /usr/local/lib/python3.10/dist-packages (from tensorboard<2.16,>=2.15->tensorflow) (0.7.2)\n",
            "Requirement already satisfied: werkzeug>=1.0.1 in /usr/local/lib/python3.10/dist-packages (from tensorboard<2.16,>=2.15->tensorflow) (3.0.1)\n",
            "Requirement already satisfied: cachetools<6.0,>=2.0.0 in /usr/local/lib/python3.10/dist-packages (from google-auth<3,>=1.6.3->tensorboard<2.16,>=2.15->tensorflow) (5.3.2)\n",
            "Requirement already satisfied: pyasn1-modules>=0.2.1 in /usr/local/lib/python3.10/dist-packages (from google-auth<3,>=1.6.3->tensorboard<2.16,>=2.15->tensorflow) (0.3.0)\n",
            "Requirement already satisfied: rsa<5,>=3.1.4 in /usr/local/lib/python3.10/dist-packages (from google-auth<3,>=1.6.3->tensorboard<2.16,>=2.15->tensorflow) (4.9)\n",
            "Requirement already satisfied: requests-oauthlib>=0.7.0 in /usr/local/lib/python3.10/dist-packages (from google-auth-oauthlib<2,>=0.5->tensorboard<2.16,>=2.15->tensorflow) (1.3.1)\n",
            "Requirement already satisfied: charset-normalizer<4,>=2 in /usr/local/lib/python3.10/dist-packages (from requests<3,>=2.21.0->tensorboard<2.16,>=2.15->tensorflow) (3.3.2)\n",
            "Requirement already satisfied: idna<4,>=2.5 in /usr/local/lib/python3.10/dist-packages (from requests<3,>=2.21.0->tensorboard<2.16,>=2.15->tensorflow) (3.6)\n",
            "Requirement already satisfied: urllib3<3,>=1.21.1 in /usr/local/lib/python3.10/dist-packages (from requests<3,>=2.21.0->tensorboard<2.16,>=2.15->tensorflow) (2.0.7)\n",
            "Requirement already satisfied: certifi>=2017.4.17 in /usr/local/lib/python3.10/dist-packages (from requests<3,>=2.21.0->tensorboard<2.16,>=2.15->tensorflow) (2023.11.17)\n",
            "Requirement already satisfied: MarkupSafe>=2.1.1 in /usr/local/lib/python3.10/dist-packages (from werkzeug>=1.0.1->tensorboard<2.16,>=2.15->tensorflow) (2.1.3)\n",
            "Requirement already satisfied: pyasn1<0.6.0,>=0.4.6 in /usr/local/lib/python3.10/dist-packages (from pyasn1-modules>=0.2.1->google-auth<3,>=1.6.3->tensorboard<2.16,>=2.15->tensorflow) (0.5.1)\n",
            "Requirement already satisfied: oauthlib>=3.0.0 in /usr/local/lib/python3.10/dist-packages (from requests-oauthlib>=0.7.0->google-auth-oauthlib<2,>=0.5->tensorboard<2.16,>=2.15->tensorflow) (3.2.2)\n",
            "Requirement already satisfied: keras in /usr/local/lib/python3.10/dist-packages (2.15.0)\n",
            "Collecting keras.utils\n",
            "  Downloading keras-utils-1.0.13.tar.gz (2.4 kB)\n",
            "  Preparing metadata (setup.py) ... \u001b[?25l\u001b[?25hdone\n",
            "Requirement already satisfied: Keras>=2.1.5 in /usr/local/lib/python3.10/dist-packages (from keras.utils) (2.15.0)\n",
            "Building wheels for collected packages: keras.utils\n",
            "  Building wheel for keras.utils (setup.py) ... \u001b[?25l\u001b[?25hdone\n",
            "  Created wheel for keras.utils: filename=keras_utils-1.0.13-py3-none-any.whl size=2631 sha256=56829f92f5e918484c84ba63f29009e7c30a85c626a92acd35f736857009cb00\n",
            "  Stored in directory: /root/.cache/pip/wheels/5c/c0/b3/0c332de4fd71f3733ea6d61697464b7ae4b2b5ff0300e6ca7a\n",
            "Successfully built keras.utils\n",
            "Installing collected packages: keras.utils\n",
            "Successfully installed keras.utils-1.0.13\n"
          ]
        }
      ]
    },
    {
      "cell_type": "markdown",
      "metadata": {
        "id": "T6aUApHy4OzK"
      },
      "source": [
        "Загрузим необходимые библиотеки: `keras` для работы с нейросетями, `numpy` для научных вычислений, `matplotlib` для построения графиков.\n",
        "\n",
        "* Наша нейронная сеть будет делать ряд последовательных преобразований входных данных, поэтому нам нужен тип нейронных сетей Sequential: импортируем его из раздела `keras.models`.\n",
        "\n",
        "* Типы преобразваний, с которыми мы будем работать: плотный слой Dense, активация Activation, преобразование картинки в длинный вектор Flatten. Каждое преобразование будет отдельным слоем в последовательной модели, поэтому импортируем их из `keras.layers`\n",
        "\n",
        "Еще мы будем использовать данные MNIST - они тоже лежат прямо в `keras`, как достать этот датасет рассмотрим дальше.\n",
        "\n",
        "Выполните ячейку ниже:"
      ]
    },
    {
      "cell_type": "code",
      "metadata": {
        "id": "9G11oTPyL1XP"
      },
      "source": [
        "# %tensorflow_version 2.x\n",
        "# Импортируем сам keras\n",
        "import keras\n",
        "# Последовательный тип модели\n",
        "from keras.models import Sequential\n",
        "# Импортируем полносвязный слой, слои активации и слой, превращающий картинку в вектор\n",
        "from keras.layers import Dense, Activation, Flatten\n",
        "# Импортируем датасеты, чтобы вытащить оттуда нужные нам данные\n",
        "import keras.datasets\n",
        "\n",
        "\n",
        "import numpy as np\n",
        "from matplotlib import pyplot as plt\n",
        "\n",
        "# Эти библиотеки отключают лишние предупреждения от библиотек, в частности,\n",
        "# tensorflow, чтобы не засорять вывод наших результатов\n",
        "import os\n",
        "os.environ['TF_CPP_MIN_LOG_LEVEL'] = '3'\n",
        "from tensorflow.python.util import deprecation\n",
        "deprecation._PRINT_DEPRECATION_WARNINGS = False\n",
        "import warnings\n",
        "warnings.filterwarnings(\"ignore\")\n",
        "\n",
        "# keras является оболочкой для более низкоуровневых библиотек,\n",
        "# в нашем случае мы используем tensorflow, у которого на данный момент\n",
        "# поддерживаются две версии, установим первую\n",
        "import tensorflow as tf\n",
        "# tf.disable_v2_behavior()"
      ],
      "execution_count": 2,
      "outputs": []
    },
    {
      "cell_type": "markdown",
      "metadata": {
        "id": "CMlzR26x4mIp"
      },
      "source": [
        "Обратим внимание, что вывод ячейки `Using TensorFlow backend.` - это означает, что в качестве бэкэнда используется библиотека для вычисления `tensorflow`."
      ]
    },
    {
      "cell_type": "markdown",
      "metadata": {
        "id": "6yDr98umrnOt"
      },
      "source": [
        "### Utils\n",
        "\n",
        "Здесь некоторые дополнительные функции, которые облегчат нам работу с данными (В них разбираться не нужно, только запустить)"
      ]
    },
    {
      "cell_type": "code",
      "metadata": {
        "id": "kOqMCh9Tkh-E"
      },
      "source": [
        "#@title\n",
        "def plot_MNIST_samples_grid(image_data, dataset_name='', N=8):\n",
        "  \"\"\"\n",
        "    Эта функция строит NxN самплов из датасета image_data\n",
        "\n",
        "    Параметры\n",
        "    ----------\n",
        "    image_data : array\n",
        "        Array of shape\n",
        "        (number_of_samples, image_width, image_height, number of channels)\n",
        "        with images\n",
        "    dataset_name : str\n",
        "        Name of dataset to write in the title\n",
        "    N : int\n",
        "        Size of grid of samples\n",
        "  \"\"\"\n",
        "  plt.figure(figsize=(10,10))\n",
        "  data1=image_data[:N*N]\n",
        "\n",
        "  image_width=image_data.shape[1]\n",
        "  image_heigth=image_data.shape[2]\n",
        "\n",
        "  if len(data1.shape)==4:\n",
        "    image_channels=image_data.shape[3]\n",
        "    data1 = data1.reshape(N, N,image_width,image_heigth, image_channels)\n",
        "    data1 = np.transpose(data1,(0,2,1,3,4))\n",
        "    data1 = data1.reshape(N*image_width,N*image_heigth,image_channels)\n",
        "    plt.imshow(data1)\n",
        "\n",
        "  elif len(data1.shape)==3:\n",
        "    data1 = data1.reshape(N, N,image_width,image_heigth)\n",
        "    data1 = np.transpose(data1,(0,2,1,3))\n",
        "    data1 = data1.reshape(N*image_width,N*image_heigth)\n",
        "    plt.imshow(data1,cmap='gray')\n",
        "  plt.xticks([])\n",
        "  plt.yticks([])\n",
        "  plt.grid(False)\n",
        "  plt.title('First '+ str(N*N) + ' '+dataset_name+ ' samples of training set')\n",
        "  plt.show()\n",
        "\n",
        "def plot_MNIST_samples(image_data, label_data, classes,  N=8):\n",
        "  \"\"\"\n",
        "    Эта функция строит N самплов каждого класса из датасета image_data\n",
        "\n",
        "    Параметры\n",
        "    ----------\n",
        "    image_data : array\n",
        "        Array of shape\n",
        "        (number_of_samples, image_width, image_height, number of channels)\n",
        "        with images\n",
        "    label_data : array\n",
        "        Array of shape\n",
        "        (number_of_samples, )\n",
        "        with labels\n",
        "    classes : list\n",
        "        list with classes names\n",
        "    dataset_name : str\n",
        "        Name of dataset to write in the title\n",
        "    N : int\n",
        "        Number of samples for each class\n",
        "  \"\"\"\n",
        "  plt.figure(figsize=(10,N))\n",
        "  num_classes = len(classes)\n",
        "  for i, y in enumerate(classes):\n",
        "      idxs = np.flatnonzero(label_data == y)\n",
        "      idxs = np.random.choice(idxs, N, replace=False)\n",
        "      for i, idx in enumerate(idxs):\n",
        "          plt_idx = i * num_classes + y + 1\n",
        "          plt.subplot(N, num_classes, plt_idx)\n",
        "          plt.imshow(image_data[idx], cmap='gray')\n",
        "          plt.axis('off')\n",
        "          if i == 0:\n",
        "              plt.title(str(y))\n",
        "  plt.show()\n",
        "\n",
        "from sklearn.metrics import confusion_matrix\n",
        "import itertools\n",
        "\n",
        "def plot_confusion_matrix(cm, classes,\n",
        "                          normalize=False,\n",
        "                          title='Confusion matrix',\n",
        "                          cmap=plt.cm.Blues):\n",
        "    \"\"\"\n",
        "    Эта функция выводит confusion matrix.\n",
        "    Нормализация может быть добавлена изменением значения флага\n",
        "    `normalize` на `True`\n",
        "    \"\"\"\n",
        "    plt.imshow(cm, interpolation='nearest', cmap=cmap)\n",
        "    plt.title(title)\n",
        "    plt.colorbar()\n",
        "    tick_marks = np.arange(len(classes))\n",
        "    plt.xticks(tick_marks, classes, rotation=45)\n",
        "    plt.yticks(tick_marks, classes)\n",
        "\n",
        "    if normalize:\n",
        "        cm = cm.astype('float') / cm.sum(axis=1)[:, np.newaxis]\n",
        "\n",
        "    thresh = cm.max() / 2.\n",
        "    for i, j in itertools.product(range(cm.shape[0]), range(cm.shape[1])):\n",
        "        plt.text(j, i, cm[i, j],\n",
        "                 horizontalalignment=\"center\",\n",
        "                 color=\"white\" if cm[i, j] > thresh else \"black\")\n",
        "\n",
        "    plt.tight_layout()\n",
        "    plt.ylabel('True label')\n",
        "    plt.xlabel('Predicted label')\n",
        "\n",
        "def display_errors(errors_index,img_errors,pred_errors, obs_errors):\n",
        "    \"\"\"\n",
        "    Эта функция показывает 6 картинок с предсказанными и настоящими классами\n",
        "    \"\"\"\n",
        "    n = 0\n",
        "    nrows = 2\n",
        "    ncols = 3\n",
        "    fig, ax = plt.subplots(nrows,ncols,sharex=True,sharey=True)\n",
        "    for row in range(nrows):\n",
        "        for col in range(ncols):\n",
        "            error = errors_index[n]\n",
        "            ax[row,col].imshow((img_errors[error]).reshape((28,28)),cmap='gray')\n",
        "            ax[row,col].set_title(\"Predicted label :{}\\nTrue label :{}\".format(pred_errors[error],obs_errors[error]))\n",
        "            n += 1\n",
        "    plt.tight_layout()"
      ],
      "execution_count": 3,
      "outputs": []
    },
    {
      "cell_type": "markdown",
      "metadata": {
        "id": "AIpnql06YNc7"
      },
      "source": [
        "### 1. Загрузка данных.\n",
        "\n",
        "В keras уже есть несколько популярных датасетов, которые можно легко загрузить. Давайте загрузим набор данных MNIST."
      ]
    },
    {
      "cell_type": "code",
      "metadata": {
        "id": "CqNeI_QlVriX"
      },
      "source": [
        "# Импортируем модуль датасета MNIST\n",
        "from keras.datasets import mnist"
      ],
      "execution_count": 4,
      "outputs": []
    },
    {
      "cell_type": "code",
      "metadata": {
        "id": "MRc87g0JL1XR",
        "colab": {
          "base_uri": "https://localhost:8080/"
        },
        "outputId": "1e4c70c4-9426-4f7b-8e74-66b9a5440b4e"
      },
      "source": [
        "# Выгрузим тренировочные и тестовые данные при помощи метода load_data\n",
        "(X_train, y_train), (X_test, y_test) = mnist.load_data()"
      ],
      "execution_count": 5,
      "outputs": [
        {
          "output_type": "stream",
          "name": "stdout",
          "text": [
            "Downloading data from https://storage.googleapis.com/tensorflow/tf-keras-datasets/mnist.npz\n",
            "11490434/11490434 [==============================] - 1s 0us/step\n"
          ]
        }
      ]
    },
    {
      "cell_type": "markdown",
      "metadata": {
        "id": "D5z73jb02Uc0"
      },
      "source": [
        "Посмотрим на содержание датасета, вызвав функцию `plot_MNIST_samples`,\n",
        "которая строит на одной картинке **N** самплов из массива картинок\n",
        "**X_train** для каждого класса"
      ]
    },
    {
      "cell_type": "code",
      "metadata": {
        "id": "qu_s1amHcIUh",
        "colab": {
          "base_uri": "https://localhost:8080/",
          "height": 598
        },
        "outputId": "73377cac-9e3e-4723-9b56-7c494c12ca82"
      },
      "source": [
        "# Создадим лист с именами классов - цифрами от 0 до 9\n",
        "classes = list(range(0,10))\n",
        "plot_MNIST_samples(X_train, y_train, classes, N=7)"
      ],
      "execution_count": 6,
      "outputs": [
        {
          "output_type": "display_data",
          "data": {
            "text/plain": [
              "<Figure size 1000x700 with 70 Axes>"
            ],
            "image/png": "[encoded data removed]"
          },
          "metadata": {}
        }
      ]
    },
    {
      "cell_type": "markdown",
      "metadata": {
        "id": "TNB3heFHYWfC"
      },
      "source": [
        "### 2. Подготовка данных\n",
        "\n",
        "\n",
        "\n"
      ]
    },
    {
      "cell_type": "markdown",
      "metadata": {
        "id": "mnITde5Yznwh"
      },
      "source": [
        "#### **Нормализация значений на [0,1] и перевод целевой переменной в one-hot формат**"
      ]
    },
    {
      "cell_type": "markdown",
      "metadata": {
        "id": "1Jk3nwrJuGLu"
      },
      "source": [
        "Нейронные сети более капризны по сравнению с линейными моделями и моделями на основе решающих деревьев.\n",
        "\n",
        "Поэтому им нужна предварительная нормализация данных: чтобы значения всех входных признаков лежали в интервале от $0$ до $1$.\n",
        "\n",
        "При этом каждый пиксель картинки представлен в виде целого числа от $0$ до $255$ (для черно-белых картинок) и в виде набора из трех целых чисел от $0$ до $255$ для цветных.\n",
        "\n",
        "Поэтому нормализацию картинки можно произвести простым делением на $255$.\n",
        "\n",
        "\n",
        "\n"
      ]
    },
    {
      "cell_type": "markdown",
      "metadata": {
        "id": "HPz3h-kWu2XW"
      },
      "source": [
        "Еще нейронной сети нужно значение выходной переменной в one-hot формате.\n",
        "\n",
        "Напомним, что такое **one-hot encoding**.\n",
        "\n",
        "Сейчас наша целевая переменная - цифры от $0$ до $9$, то есть $10$ классов. Для каждой картинки наша сеть будет предсказывать вероятность принадлежности к каждому из этих десяти классов.\n",
        "\n",
        "Соответственно, истинным значением целевой переменной будет вектор длины $10$, состоящий из $0$ с одной $1$ на месте номера класса, к которому принадлежит картинка (то есть вероятность $1$, что цифра на самом деле принадлежит к конкретному классу).\n",
        "\n",
        "<img src=\"https://piximus.net/media/19285/words-that-are-short-for-something-12.jpg\" width=\"300\">\n",
        "\n",
        "Это делаем функцией из `keras` `keras.utils.to_categorical`, которая принимает на вход исходный вектор значений выходной переменной и число классов."
      ]
    },
    {
      "cell_type": "code",
      "metadata": {
        "id": "9QZzn-yQbG1A",
        "colab": {
          "base_uri": "https://localhost:8080/"
        },
        "outputId": "c7c7eb43-8067-473f-8082-741526c0cd14"
      },
      "source": [
        "print(y_train)"
      ],
      "execution_count": 7,
      "outputs": [
        {
          "output_type": "stream",
          "name": "stdout",
          "text": [
            "[5 0 4 ... 5 6 8]\n"
          ]
        }
      ]
    },
    {
      "cell_type": "code",
      "metadata": {
        "id": "hbw-RAM2Y6tT",
        "colab": {
          "base_uri": "https://localhost:8080/"
        },
        "outputId": "8e65a5a1-2955-4546-edb7-e45c6bf875b2"
      },
      "source": [
        "from tensorflow.keras.utils import to_categorical\n",
        "\n",
        "X_train = X_train / 255\n",
        "X_test = X_test / 255\n",
        "\n",
        "y_train = to_categorical(y_train, 10)\n",
        "y_test = to_categorical(y_test, 10)\n",
        "\n",
        "\n",
        "print(X_train.shape, y_train.shape)"
      ],
      "execution_count": 8,
      "outputs": [
        {
          "output_type": "stream",
          "name": "stdout",
          "text": [
            "(60000, 28, 28) (60000, 10)\n"
          ]
        }
      ]
    },
    {
      "cell_type": "code",
      "metadata": {
        "id": "_qEa-PCUa4up",
        "colab": {
          "base_uri": "https://localhost:8080/"
        },
        "outputId": "82d62af2-c17f-45fa-ddb5-f1ff8ec45321"
      },
      "source": [
        "y_train"
      ],
      "execution_count": 9,
      "outputs": [
        {
          "output_type": "execute_result",
          "data": {
            "text/plain": [
              "array([[0., 0., 0., ..., 0., 0., 0.],\n",
              "       [1., 0., 0., ..., 0., 0., 0.],\n",
              "       [0., 0., 0., ..., 0., 0., 0.],\n",
              "       ...,\n",
              "       [0., 0., 0., ..., 0., 0., 0.],\n",
              "       [0., 0., 0., ..., 0., 0., 0.],\n",
              "       [0., 0., 0., ..., 0., 1., 0.]], dtype=float32)"
            ]
          },
          "metadata": {},
          "execution_count": 9
        }
      ]
    },
    {
      "cell_type": "code",
      "metadata": {
        "id": "NnCEwB4iamIr",
        "colab": {
          "base_uri": "https://localhost:8080/"
        },
        "outputId": "16cb54fb-c58e-4e70-d6ba-14cd399922d4"
      },
      "source": [
        "y_test"
      ],
      "execution_count": 10,
      "outputs": [
        {
          "output_type": "execute_result",
          "data": {
            "text/plain": [
              "array([[0., 0., 0., ..., 1., 0., 0.],\n",
              "       [0., 0., 1., ..., 0., 0., 0.],\n",
              "       [0., 1., 0., ..., 0., 0., 0.],\n",
              "       ...,\n",
              "       [0., 0., 0., ..., 0., 0., 0.],\n",
              "       [0., 0., 0., ..., 0., 0., 0.],\n",
              "       [0., 0., 0., ..., 0., 0., 0.]], dtype=float32)"
            ]
          },
          "metadata": {},
          "execution_count": 10
        }
      ]
    },
    {
      "cell_type": "markdown",
      "metadata": {
        "id": "S2986SBBZJIs"
      },
      "source": [
        "Посмотрим на то, в каком виде у нас хранятся входные признаки, напечатав размер первого объекта из обучающей выборки (метод **shape**)\n",
        "\n",
        "Для данных MNIST это изображения 28 на 28."
      ]
    },
    {
      "cell_type": "code",
      "metadata": {
        "id": "VGjF5U_eL1XU",
        "colab": {
          "base_uri": "https://localhost:8080/"
        },
        "outputId": "f2c32209-ada4-42a7-e836-e0d76c6f883e"
      },
      "source": [
        "input_size = X_train[0].shape\n",
        "input_size"
      ],
      "execution_count": 11,
      "outputs": [
        {
          "output_type": "execute_result",
          "data": {
            "text/plain": [
              "(28, 28)"
            ]
          },
          "metadata": {},
          "execution_count": 11
        }
      ]
    },
    {
      "cell_type": "code",
      "metadata": {
        "id": "u9f_p4H2POQ9",
        "colab": {
          "base_uri": "https://localhost:8080/"
        },
        "outputId": "a3afe83f-92c1-4c8d-a73f-0fc02c2d1550"
      },
      "source": [
        "X_train.shape"
      ],
      "execution_count": 12,
      "outputs": [
        {
          "output_type": "execute_result",
          "data": {
            "text/plain": [
              "(60000, 28, 28)"
            ]
          },
          "metadata": {},
          "execution_count": 12
        }
      ]
    },
    {
      "cell_type": "markdown",
      "metadata": {
        "id": "uOfHrF7KZZOj"
      },
      "source": [
        "### 3. Создание модели для обучения Sequential - добавляем слои друг за другом\n",
        "\n",
        "Sequential здесь означает последовательный тип модели, в который мы добавляем слои друг за другом. Инициализируем модель:"
      ]
    },
    {
      "cell_type": "code",
      "metadata": {
        "id": "mt8gkzJDL1XW"
      },
      "source": [
        "# Создаем пустую модель\n",
        "model = Sequential()"
      ],
      "execution_count": 13,
      "outputs": []
    },
    {
      "cell_type": "markdown",
      "metadata": {
        "id": "MMKOCnmMZgk_"
      },
      "source": [
        "#### Добавляем в модель слой за слоем.\n",
        "\n",
        "<img src=\"https://ml4a.github.io/images/figures/mnist_2layers.png\" width=\"600\">\n",
        "\n",
        "\n",
        "* сначала растягиваем картинку в длинный вектор слоем `Flatten`\n",
        "* потом идет полносвязный слой - нейроны в следующем слое зависят от всех переменных в предыдущем\n",
        "* далее используем функцию активации `ReLU`\n",
        "* потом идет следующий полносвязный слой. В нем $10$ выходов - по числу классов\n",
        "* в конце используем функцию активации `SoftMax`\n",
        "\n",
        "**ReLU** - стандартный выбор для функции активации нейронов внутри нейросети. Несмотря на простоту функции, эксперименты показывают, что эта функция активации достаточна для эффективного обучения нейросетей.\n",
        "\n",
        "**Softmax** - функция активации для выходного слоя нейронов в задачах классификации с числом классов $>2$. Она переводит выходные значения сети в вероятности принадлежности конкретного элемента выборки к одному из класов.\n",
        "\n",
        "*Важно: в первом слое `Sequential` модели keras необходимо указать размерность входных данных $28*28=784$ , перед активацией делаем плотный слой с размерностью $10$ по числу классов*\n",
        "\n",
        "\n"
      ]
    },
    {
      "cell_type": "code",
      "metadata": {
        "id": "7L_idgx4aTSQ"
      },
      "source": [
        "# Этот слой превратит нашу двумерную картинку в вектор\n",
        "model.add(Flatten(input_shape=input_size))\n",
        "\n",
        "# Добавляем скрытый полносвязный слой из 128 нейронов\n",
        "model.add(Dense(units=128, input_shape=input_size))\n",
        "#И активацию для скрытого слоя нейронов\n",
        "model.add(Activation('relu'))\n",
        "\n",
        "# Добавляем выходной полносвязный слой из 10 нейронов\n",
        "model.add(Dense(units=10))\n",
        "# Чтобы получить на выходе вероятности для каждого класса, выбираем активацию\n",
        "# softmax\n",
        "model.add(Activation('softmax'))"
      ],
      "execution_count": 14,
      "outputs": []
    },
    {
      "cell_type": "markdown",
      "metadata": {
        "id": "dXa68zvcabbz"
      },
      "source": [
        "После описания архитектуры необходимо скомпилировать модель при помощи метода `compile`, указав минимизируемую функцию потерь (параметр `loss`),\n",
        "оптимизатор (параметр `optimizer`, который позаботится об изменении весов модели) и метрику (параметр `metrics`), по которой будет оцениваться точность работы на тестовой выборке в процессе обучения"
      ]
    },
    {
      "cell_type": "code",
      "metadata": {
        "id": "m07_4onHL1XZ"
      },
      "source": [
        "# Компилируем модель с функцией ошибки categorical entropy, оптимизатором Адам\n",
        "# (оптимизатор, который со стандартным набором параметров может обучить эффективную\n",
        "#  нейросеть), и метрикой - количеством правильно угаданных цифр.\n",
        "model.compile(loss='categorical_crossentropy',\n",
        "              optimizer='adam',\n",
        "              metrics=['accuracy'])"
      ],
      "execution_count": 15,
      "outputs": []
    },
    {
      "cell_type": "markdown",
      "metadata": {
        "id": "RlpUm6MadcGt"
      },
      "source": [
        "Еще можно посмотреть на нашу модель в целом: сколько в ней слоев, сколько параметров у каждого слоя с помощью команды model.summary()"
      ]
    },
    {
      "cell_type": "code",
      "metadata": {
        "id": "-eD6-YNjL1Xb",
        "colab": {
          "base_uri": "https://localhost:8080/"
        },
        "outputId": "0f292bec-20ba-428a-d9a2-24c4c9c61a5d"
      },
      "source": [
        "model.summary()"
      ],
      "execution_count": 16,
      "outputs": [
        {
          "output_type": "stream",
          "name": "stdout",
          "text": [
            "Model: \"sequential\"\n",
            "_________________________________________________________________\n",
            " Layer (type)                Output Shape              Param #   \n",
            "=================================================================\n",
            " flatten (Flatten)           (None, 784)               0         \n",
            "                                                                 \n",
            " dense (Dense)               (None, 128)               100480    \n",
            "                                                                 \n",
            " activation (Activation)     (None, 128)               0         \n",
            "                                                                 \n",
            " dense_1 (Dense)             (None, 10)                1290      \n",
            "                                                                 \n",
            " activation_1 (Activation)   (None, 10)                0         \n",
            "                                                                 \n",
            "=================================================================\n",
            "Total params: 101770 (397.54 KB)\n",
            "Trainable params: 101770 (397.54 KB)\n",
            "Non-trainable params: 0 (0.00 Byte)\n",
            "_________________________________________________________________\n"
          ]
        }
      ]
    },
    {
      "cell_type": "markdown",
      "source": [
        "```\n",
        "Model: \"sequential_1\"\n",
        "_________________________________________________________________\n",
        " Layer (type)                Output Shape              Param #   \n",
        "=================================================================\n",
        " conv2d (Conv2D)             (None, 28, 28, 24)        240       \n",
        "                                                                 \n",
        " activation_2 (Activation)   (None, 28, 28, 24)        0         \n",
        "                                                                 \n",
        " flatten_1 (Flatten)         (None, 18816)             0         \n",
        "                                                                 \n",
        " dense_2 (Dense)             (None, 64)                1204288   \n",
        "                                                                 \n",
        " dense_3 (Dense)             (None, 10)                650       \n",
        "                                                                 \n",
        "=================================================================\n",
        "Total params: 1,205,178\n",
        "Trainable params: 1,205,178\n",
        "Non-trainable params: 0\n",
        "\n",
        "```"
      ],
      "metadata": {
        "id": "CkzUbi-38gjg"
      }
    },
    {
      "cell_type": "markdown",
      "metadata": {
        "id": "iuTVdcO1Of0Z"
      },
      "source": [
        "### Обучение нейросети\n",
        "\n",
        "**Обучение** нейросети - изменение **весов** нейронов при помощи метода обратного распространения ошибки"
      ]
    },
    {
      "cell_type": "markdown",
      "metadata": {
        "id": "SCiUVgnX0PSi"
      },
      "source": [
        "### 4) Обучение модели"
      ]
    },
    {
      "cell_type": "markdown",
      "metadata": {
        "id": "C_hq5K6Oahnr"
      },
      "source": [
        "### **Тренировка с указанием данных, числа эпох и размера подвыборки**\n",
        "\n",
        "Теперь задана структура модели и то, как мы будем ее обучать.\n",
        "Обучаем ее аналогично `sklearn` - с помощью метода `fit`.\n",
        "\n",
        "После запуска `fit` параметры оптимизируются градиентым спуском.\n",
        "На каждом шаге градиентного спуска мы используем функцию потерь, которая подсчитана только по части полной выборки.\n",
        "\n"
      ]
    },
    {
      "cell_type": "markdown",
      "metadata": {
        "id": "9M7h_b3A0iUb"
      },
      "source": [
        "### Два дополнительных параметра для обучения - batch_size epochs\n",
        "* **batch_size** - размер подвыборки, которая используется для одного шага оптимизации = 40\n",
        "* **epochs** - число эпох - сколько раз мы проходим полностью по всей выборке\n",
        "\n",
        "[Эксперименты](https://arxiv.org/abs/1609.04836) показывают, что выбор **batch_size** в диапазоне $32-512$ в среднем обеспечивает нормальную обобщающую способность нейросети, то есть помогает модели делать лучшие предсказания на новых данных, не присутствующих в тренировочной выборке.\n",
        "\n",
        "Количество эпох **epochs** обычно выбирают так, чтобы метрика качества на валидационной выборке не стала убывать (то есть, не произошло переобучения).\n",
        "\n",
        "В целом, подбор подобных макропараметров сети является отдельным классом задач, поскольку одна и та же архитектура нейросети может значительно улучшать/ухудшать результаты предсказаний в зависимости от выбранных значений."
      ]
    },
    {
      "cell_type": "code",
      "metadata": {
        "id": "1yJBEO5MawBa",
        "colab": {
          "base_uri": "https://localhost:8080/"
        },
        "outputId": "6bb2d00c-7721-4112-91f7-7a4491d6f50c"
      },
      "source": [
        "model.fit(X_train, y_train, epochs=5, batch_size=40)"
      ],
      "execution_count": 17,
      "outputs": [
        {
          "output_type": "stream",
          "name": "stdout",
          "text": [
            "Epoch 1/5\n",
            "1500/1500 [==============================] - 10s 5ms/step - loss: 0.2711 - accuracy: 0.9222\n",
            "Epoch 2/5\n",
            "1500/1500 [==============================] - 9s 6ms/step - loss: 0.1215 - accuracy: 0.9644\n",
            "Epoch 3/5\n",
            "1500/1500 [==============================] - 7s 5ms/step - loss: 0.0820 - accuracy: 0.9760\n",
            "Epoch 4/5\n",
            "1500/1500 [==============================] - 8s 5ms/step - loss: 0.0611 - accuracy: 0.9813\n",
            "Epoch 5/5\n",
            "1500/1500 [==============================] - 4s 3ms/step - loss: 0.0491 - accuracy: 0.9848\n"
          ]
        },
        {
          "output_type": "execute_result",
          "data": {
            "text/plain": [
              "<keras.src.callbacks.History at 0x7bb2ab0fe590>"
            ]
          },
          "metadata": {},
          "execution_count": 17
        }
      ]
    },
    {
      "cell_type": "markdown",
      "metadata": {
        "id": "uQ92EA7pdG8B"
      },
      "source": [
        "### 5. Валидация качества модели на тестовых данных.\n",
        "Протестируем модель на тестовой выборке для этого используется метод `evaluate`.\n",
        "Выводится **loss** и **точность**."
      ]
    },
    {
      "cell_type": "code",
      "metadata": {
        "scrolled": true,
        "id": "So0AMrOtL1Xd",
        "colab": {
          "base_uri": "https://localhost:8080/"
        },
        "outputId": "2b0bf581-d925-48b2-d8bb-10aa3944e051"
      },
      "source": [
        "model.evaluate(X_test, y_test)"
      ],
      "execution_count": 18,
      "outputs": [
        {
          "output_type": "stream",
          "name": "stdout",
          "text": [
            "313/313 [==============================] - 1s 2ms/step - loss: 0.0733 - accuracy: 0.9770\n"
          ]
        },
        {
          "output_type": "execute_result",
          "data": {
            "text/plain": [
              "[0.07334396243095398, 0.9769999980926514]"
            ]
          },
          "metadata": {},
          "execution_count": 18
        }
      ]
    },
    {
      "cell_type": "code",
      "source": [
        "# epoch = 5, batch_size = 40\n",
        "# loss: 0.0754 - accuracy: 0.9772\n",
        "\n",
        "# epoch = 5, batch_size = 32\n",
        "# loss: 0.0727 - accuracy: 0.9786\n",
        "\n",
        "# epoch = 6, batch_size = 42\n",
        "# loss: 0.0852 - accuracy: 0.9807\n",
        "\n",
        "# epoch = 6, batch_size = 50\n",
        "# loss: 0.0984 - accuracy: 0.9796"
      ],
      "metadata": {
        "id": "uov4Bc-M10Z0"
      },
      "execution_count": 19,
      "outputs": []
    },
    {
      "cell_type": "markdown",
      "metadata": {
        "id": "53SddAA9rZcH"
      },
      "source": [
        "Что это означает: для нашей модели на основе нейронной сети мы получаем точность 98% - то есть, с вероятностью 98% модель определяет, какая цифра нарисована на картинке"
      ]
    },
    {
      "cell_type": "markdown",
      "metadata": {
        "id": "HCJSQ3tynDbb"
      },
      "source": [
        "## 4) Сверточные нейросети\n",
        "\n",
        "Слой сверточной сети состоит из **ядра** - окна с весами, которое последовательно проходит по пикселям входящего изображения (на картинке движется ядро размером $3\\text{x}3$) и складывает их с соответствующими весами."
      ]
    },
    {
      "cell_type": "markdown",
      "metadata": {
        "id": "3_IwoLX3TC_Y"
      },
      "source": [
        "<table>\n",
        "<tr>\n",
        "<td>\n",
        "<img src=\"https://neurohive.io/wp-content/uploads/2018/07/convolutional-neural-network.gif\" width=\"500\">\n",
        "</td>\n",
        "</tr>\n",
        "<tr>\n",
        "<td>\n",
        "<img src=\"https://neurohive.io/wp-content/uploads/2018/07/2d-covolutions.gif\" width=\"500\">\n",
        "</td>\n",
        "</tr>\n",
        "</table>\n",
        "\n",
        "\n",
        "<img src=\"https://i.stack.imgur.com/YDusp.png\" width=\"700\">\n",
        "\n"
      ]
    },
    {
      "cell_type": "markdown",
      "metadata": {
        "id": "Nf4z1aj_OJw5"
      },
      "source": [
        "Таким образом, использование сверток помогает извлекать паттерны на картинке.\n",
        "\n",
        "Чем глубже сверточный слой, тем более сложные паттерны он способен распознавать:\n",
        "\n",
        "![](https://raw.githubusercontent.com/MerkulovDaniil/TensorFlow_and_Keras_crash_course/master/rus/2_Deep%20Learning%20and%20Keras/features.png)"
      ]
    },
    {
      "cell_type": "markdown",
      "metadata": {
        "id": "-M_cYMnffIlv"
      },
      "source": [
        "#### MaxPool\n",
        "\n",
        "Слой, похожий на свертку, но вместо суммирования элементов входного изображения с весами ядра, этот слой внутри перемещающегося окна выбирает максимальный элемент и передает его дальше.\n",
        "\n",
        "Обычно слои **Conv** и **MaxPool** используют в паре, **MaxPool** используется для уменьшения размерности данных."
      ]
    },
    {
      "cell_type": "markdown",
      "metadata": {
        "id": "yxcwO6mmfpdM"
      },
      "source": [
        "<table>\n",
        "<tr>\n",
        "<td>\n",
        "<img src=\"https://anilbhatt1tech.files.wordpress.com/2020/02/maxpool-3x3-1.gif\" width=\"400\">\n",
        "</td>\n",
        "</tr>\n",
        "<tr>\n",
        "<td>\n",
        "<img src=\"https://www.pythian.com/hs-fs/hubfs/Imported_Blog_Media/Neural-Networks-Post-Image-2.png?width=1172&height=1000&name=Neural-Networks-Post-Image-2.png\" width=\"500\">\n",
        "</td>\n",
        "</tr>\n",
        "</table>\n",
        "\n",
        "\n",
        "\n",
        "\n",
        "\n"
      ]
    },
    {
      "cell_type": "markdown",
      "metadata": {
        "id": "xQWfh0c1gADl"
      },
      "source": [
        "### 6. Улучшение модели: добавим сверточный слой и посмотрим на результат."
      ]
    },
    {
      "cell_type": "markdown",
      "metadata": {
        "id": "WUCezkiXDrDH"
      },
      "source": [
        "Теперь вместо того, чтобы превращать нашу картинку в вектор (из-за чего мы теряем много информации о взаимном расположении пикселей) и отправлять на вход `Dense` слоям, сначала мы произведем свертку изображения при помощи `Conv2D`.\n",
        "\n",
        "Таким образом мы постараемся извлечь основные паттерны цифр, и только потом результат свертки превратим в вектор и передадим его полносвязной части нейросети."
      ]
    },
    {
      "cell_type": "markdown",
      "metadata": {
        "id": "6CFF3-RLhGH4"
      },
      "source": [
        "Добавим явно число каналов(слоев цвета) в наш датасет - это важно для сверточных слоев. Поскольку наш датасет черно-белый, изображение состоит из одного канала (в отличие от $3$х RGB каналов цветных изображений).\n",
        "т.е. делается преобразование ($60000$, $28$, $28$) -> ($60000$, $28$, $28$, $1$). Это не изменяет общие размеры матриц, но `keras` принимает на вход именно такую структуру данных - если мы используем сверточные слои.\n",
        "\n",
        "\n"
      ]
    },
    {
      "cell_type": "code",
      "metadata": {
        "id": "J6gkFZuMhL_f",
        "colab": {
          "base_uri": "https://localhost:8080/"
        },
        "outputId": "1509137a-c9cc-47d5-a199-6d26eaae135b"
      },
      "source": [
        "X_train, X_test = X_train.reshape((60000, 28, 28, 1)), X_test.reshape((10000, 28, 28, 1))\n",
        "input_size = X_train[0].shape\n",
        "print(input_size)"
      ],
      "execution_count": 20,
      "outputs": [
        {
          "output_type": "stream",
          "name": "stdout",
          "text": [
            "(28, 28, 1)\n"
          ]
        }
      ]
    },
    {
      "cell_type": "markdown",
      "metadata": {
        "id": "JB8OqlSHhQYd"
      },
      "source": [
        "Мы используем новый тип преобразования в слое - сверточный `Conv2D`"
      ]
    },
    {
      "cell_type": "code",
      "metadata": {
        "id": "JZyg7D08L1Xg"
      },
      "source": [
        "from keras.layers import Conv2D"
      ],
      "execution_count": 21,
      "outputs": []
    },
    {
      "cell_type": "markdown",
      "metadata": {
        "id": "0jWP1X9Vh76x"
      },
      "source": [
        "Создание модели. `Sequential` здесь снова означает последовательный тип модели, в который мы добавляем слои друг за другом"
      ]
    },
    {
      "cell_type": "code",
      "metadata": {
        "id": "Ow_oxCQmiCkZ"
      },
      "source": [
        "# Задаем пустую модель\n",
        "conv_model = Sequential()"
      ],
      "execution_count": 22,
      "outputs": []
    },
    {
      "cell_type": "markdown",
      "metadata": {
        "id": "XqXj7PlliB23"
      },
      "source": [
        "Здесь мы используем сверточный слой, который обучает $24$ ядра размером $3$x$3$ для поиска\n",
        " конкретных геометрических (настраиваемых в процессе обучения) паттернов на входном изображении.\n"
      ]
    },
    {
      "cell_type": "code",
      "metadata": {
        "id": "8v4Fbs5Shr79"
      },
      "source": [
        "# В начале добавляем сверточный слой, первый параметр - количество фильтров (24),\n",
        "# второй - размер \"ядра\" - окошка, перемещающегося по входному изображению (3,3),\n",
        "# padding - добавление пикселей по краям изображения, чтобы сделать свертку на\n",
        "# крайних пикселях, режим `same` - повторение края\n",
        "conv_model.add(Conv2D(24, (3, 3), padding='same', input_shape=input_size))\n",
        "\n",
        "# Для сверточного слоя тоже нужна активация и ReLU подходит сюда так же,\n",
        "# как и для скрытого полносвязного слоя\n",
        "conv_model.add(Activation('relu'))\n",
        "\n",
        "# Разворачиваем результат свертки в вектор\n",
        "conv_model.add(Flatten())\n",
        "\n",
        "# Добавляем полносвязный скрытый слой, вид активации можно указать сразу\n",
        "# в описании Dense слоя, в данном случае - ReLU\n",
        "conv_model.add(Dense(64, activation='relu'))\n",
        "\n",
        "# Для выходного полносвязного слоя указываем количество итоговых классов и\n",
        "# softmax для активации\n",
        "conv_model.add(Dense(10, activation='softmax'))"
      ],
      "execution_count": 23,
      "outputs": []
    },
    {
      "cell_type": "code",
      "metadata": {
        "id": "Bhfoz8W2L1Xi",
        "colab": {
          "base_uri": "https://localhost:8080/"
        },
        "outputId": "e5d98e97-f2f4-4c86-c022-f50c1b0e80e8"
      },
      "source": [
        "# При помощи метода `summary` мы можем посмотреть,как выглядит наша\n",
        "# итоговая архитектура нейросети и количество параметров (весов)\n",
        "conv_model.summary()"
      ],
      "execution_count": 24,
      "outputs": [
        {
          "output_type": "stream",
          "name": "stdout",
          "text": [
            "Model: \"sequential_1\"\n",
            "_________________________________________________________________\n",
            " Layer (type)                Output Shape              Param #   \n",
            "=================================================================\n",
            " conv2d (Conv2D)             (None, 28, 28, 24)        240       \n",
            "                                                                 \n",
            " activation_2 (Activation)   (None, 28, 28, 24)        0         \n",
            "                                                                 \n",
            " flatten_1 (Flatten)         (None, 18816)             0         \n",
            "                                                                 \n",
            " dense_2 (Dense)             (None, 64)                1204288   \n",
            "                                                                 \n",
            " dense_3 (Dense)             (None, 10)                650       \n",
            "                                                                 \n",
            "=================================================================\n",
            "Total params: 1205178 (4.60 MB)\n",
            "Trainable params: 1205178 (4.60 MB)\n",
            "Non-trainable params: 0 (0.00 Byte)\n",
            "_________________________________________________________________\n"
          ]
        }
      ]
    },
    {
      "cell_type": "markdown",
      "metadata": {
        "id": "BEfkQmx8iRUH"
      },
      "source": [
        "После описания архитектуры необходимо скомпилировать модель, указав минимизируемую функцию потерь,\n",
        "оптимизатор и попросив модель выводить точность работы на тестовой выборке в процессе обучения\n"
      ]
    },
    {
      "cell_type": "code",
      "metadata": {
        "id": "QzkuwxBuiOzS"
      },
      "source": [
        "# Компилируем модель с функцией ошибки categorical entropy, оптимизатором Адам\n",
        "# (оптимизатор, который со стандартным набором параметров может обучить эффективную\n",
        "#  нейросеть), и метрикой - количеством правильно угаданных цифр.\n",
        "conv_model.compile(loss='categorical_crossentropy',\n",
        "                   optimizer='adam',\n",
        "                   metrics=['accuracy'])"
      ],
      "execution_count": 25,
      "outputs": []
    },
    {
      "cell_type": "markdown",
      "metadata": {
        "id": "S4mM0LJphwui"
      },
      "source": [
        "Тренировка с указанием данных, числа эпох и размера подвыборки"
      ]
    },
    {
      "cell_type": "code",
      "metadata": {
        "id": "n3f0J-COhuc6",
        "colab": {
          "base_uri": "https://localhost:8080/"
        },
        "outputId": "a37d075a-985a-4edc-d742-18d74d01a592"
      },
      "source": [
        "conv_model.fit(X_train, y_train, epochs=5, batch_size=32)"
      ],
      "execution_count": 26,
      "outputs": [
        {
          "output_type": "stream",
          "name": "stdout",
          "text": [
            "Epoch 1/5\n",
            "1875/1875 [==============================] - 9s 3ms/step - loss: 0.1533 - accuracy: 0.9546\n",
            "Epoch 2/5\n",
            "1875/1875 [==============================] - 6s 3ms/step - loss: 0.0519 - accuracy: 0.9841\n",
            "Epoch 3/5\n",
            "1875/1875 [==============================] - 7s 3ms/step - loss: 0.0305 - accuracy: 0.9904\n",
            "Epoch 4/5\n",
            "1875/1875 [==============================] - 6s 3ms/step - loss: 0.0203 - accuracy: 0.9933\n",
            "Epoch 5/5\n",
            "1875/1875 [==============================] - 7s 4ms/step - loss: 0.0128 - accuracy: 0.9962\n"
          ]
        },
        {
          "output_type": "execute_result",
          "data": {
            "text/plain": [
              "<keras.src.callbacks.History at 0x7bb2881466e0>"
            ]
          },
          "metadata": {},
          "execution_count": 26
        }
      ]
    },
    {
      "cell_type": "markdown",
      "metadata": {
        "id": "NzMjjDbzil3b"
      },
      "source": [
        "Проверим качество работы модели на тестовых данных. Выводится loss и точность."
      ]
    },
    {
      "cell_type": "code",
      "metadata": {
        "id": "M5AnjO2JL1Xj",
        "colab": {
          "base_uri": "https://localhost:8080/"
        },
        "outputId": "77910e92-b909-4da5-8cbf-bc422fc8dd82"
      },
      "source": [
        "conv_model.evaluate(X_test, y_test)"
      ],
      "execution_count": 27,
      "outputs": [
        {
          "output_type": "stream",
          "name": "stdout",
          "text": [
            "313/313 [==============================] - 1s 4ms/step - loss: 0.0656 - accuracy: 0.9826\n"
          ]
        },
        {
          "output_type": "execute_result",
          "data": {
            "text/plain": [
              "[0.06555157154798508, 0.9825999736785889]"
            ]
          },
          "metadata": {},
          "execution_count": 27
        }
      ]
    },
    {
      "cell_type": "code",
      "source": [
        "# Значения точности и потерь несверточной НС:\n",
        "\n",
        "# epoch = 5, batch_size = 32\n",
        "# loss: 0.0727 - accuracy: 0.9786"
      ],
      "metadata": {
        "id": "9eNECcq19SUv"
      },
      "execution_count": 28,
      "outputs": []
    },
    {
      "cell_type": "markdown",
      "metadata": {
        "id": "cQLUPBbJMky5"
      },
      "source": [
        "#### Получение предсказаний классов на основе выходных данных нейросети\n",
        "\n",
        "Как мы уже поняли, выходной слой нейросети возвращает нам вектор длиной $10$ (количество классов) с **вероятностями** принадлежности данного объекта каждому классу. Как же нам получить итоговые предсказания, то есть сами **номера классов**?"
      ]
    },
    {
      "cell_type": "markdown",
      "metadata": {
        "id": "keN5xDLoLvvr"
      },
      "source": [
        "\n",
        "Верифицируем, что полученное значение точности модели соответствует точности модели, которую мы получим с помощью обычной кобминации подсчета прогноза и затем вызова функции accuracy_score."
      ]
    },
    {
      "cell_type": "code",
      "metadata": {
        "id": "Am7beN2MILMj",
        "colab": {
          "base_uri": "https://localhost:8080/"
        },
        "outputId": "9ebcd447-8ed5-4660-861a-d65ed0e7d8e6"
      },
      "source": [
        "# Импортируем знакомую нам функцию подсчета accuracy\n",
        "from sklearn.metrics import accuracy_score\n",
        "\n",
        "# Метод predict модели возвращает выходные значения последнего слоя нейросети\n",
        "# То есть y_test_predictions сейчас содержит len(X_test) векторов\n",
        "# предсказанных вероятностей\n",
        "y_test_predictions = conv_model.predict(X_test)\n",
        "\n",
        "# y_test содержит one-hot формат исходных классов, то есть вероятности 1, стоящие\n",
        "# в элементах вектора, отвечающих за правильный номер класса\n",
        "\n",
        "# Получим предсказанные номера классов, попросив выдать нам номера выходного вектора,\n",
        "# содержащие самые большие вероятности (то есть тот класс, в котором сеть уверена\n",
        "#                                       с наибольшей вероятностью)\n",
        "# Это делается при помощи функции np.argmax. Аргумент axis показывает,\n",
        "# что нас интересует поиск максимальных значений не среди всей выборки (axis=0),\n",
        "# а среди 10ти классов (axis=1)\n",
        "\n",
        "y_predicted_classes=np.argmax(y_test_predictions, axis=1)\n",
        "y_real_classes=np.argmax(y_test, axis=1)\n",
        "\n",
        "#посчитаем точность наших предсказаний\n",
        "print(accuracy_score(y_real_classes, y_predicted_classes))"
      ],
      "execution_count": 29,
      "outputs": [
        {
          "output_type": "stream",
          "name": "stdout",
          "text": [
            "313/313 [==============================] - 1s 2ms/step\n",
            "0.9826\n"
          ]
        }
      ]
    },
    {
      "cell_type": "markdown",
      "metadata": {
        "id": "jPX9MA3Jnw3V"
      },
      "source": [
        "## 5) Бонус: Переобучение. Dropout\n",
        "\n",
        "Иногда нейросеть вместо того, чтобы \"понять\" общие паттерны данных просто \"заучивает\" обучающую выборку: на тренировочной части датасета модель правильно угадывает принадлежность к классу, а на валидационном датасете результативность в разы снижается."
      ]
    },
    {
      "cell_type": "markdown",
      "metadata": {
        "id": "Wt4_WlQVe7r_"
      },
      "source": [
        "\n",
        "\n",
        "Такая ситуация называется **переобучением** (overfitting).\n",
        "\n",
        "<img src=\"https://www.tradelikeamachine.com/images/blog/over-optimization/statistical-significance-in-trading-system-optimization.jpg\" width=\"500\">\n",
        "\n",
        "\n"
      ]
    },
    {
      "cell_type": "markdown",
      "metadata": {
        "id": "ssBYo-mUgD00"
      },
      "source": [
        "**Dropout** - техника спасения нейросетей от переобучения, при которой в процессе тренировки случайно \"выключаются\" некоторые нейроны из моделей.\n",
        "\n",
        "Альтернативный взгляд - вместо тренировки одной большой сети проходит одновременная тренировка нескольких подсетей меньшего размера, результаты которых потом усредняются (в каком то смысле, сглаживаются).\n",
        "\n",
        "![](https://github.com/MerkulovDaniil/TensorFlow_and_Keras_crash_course/blob/master/rus/2_Deep%20Learning%20and%20Keras/dropout.gif?raw=true)\n",
        "\n",
        "Давайте попробуем посмотреть, как написать сеть, состоящую из нескольких сверточных слоев с использованием `dropout` на `keras`"
      ]
    },
    {
      "cell_type": "markdown",
      "metadata": {
        "id": "AFvowfoLkHtp"
      },
      "source": [
        "### 7. Модель из нескольких сверточных слоев с дропаутами"
      ]
    },
    {
      "cell_type": "code",
      "metadata": {
        "id": "7J6YIa0RnIwj"
      },
      "source": [
        "from keras.layers import Conv2D, MaxPooling2D, Dropout\n",
        "\n",
        "\n",
        "# Все так же, создаем модель\n",
        "cnn = Sequential()\n",
        "\n",
        "# Начинаем со сверточного слоя, указывая тип активации на выходе из него и способ заполнения краев (padding)\n",
        "cnn.add(Conv2D(64, (3, 3), input_shape=input_size, activation='selu', padding='same'))\n",
        "\n",
        "\n",
        "# Слой dropout, который на каждом шаге \"выключает\" 25% случайно выбранных нейронов\n",
        "cnn.add(Dropout(0.25))\n",
        "\n",
        "# Еще сверточный слой\n",
        "cnn.add(Conv2D(32, (3, 3), activation='selu', padding='same'))\n",
        "# Здесь мы используем метод MaxPooling, который уменьшает размер обрабатываемого изображения,\n",
        "# выбирая из 4 пикселей 1 с максимальным значением, чтобы это быстрее считалось. (2,2) -> 1\n",
        "cnn.add(MaxPooling2D(pool_size=(2, 2)))\n",
        "\n",
        "cnn.add(Dropout(0.5))\n",
        "\n",
        "# Последний слой необходим для классификации, но перед ним необходимо векторизовать данные\n",
        "cnn.add(Flatten())\n",
        "cnn.add(Dense(10, activation='softmax'))\n",
        "\n",
        "# Компилируем модель с функцией ошибки categorical entropy, оптимизатором Адам\n",
        "# (оптимизатор, который со стандартным набором параметров может обучить эффективную\n",
        "#  нейросеть), и метрикой - количеством правильно угаданных цифр.\n",
        "cnn.compile(loss='categorical_crossentropy',\n",
        "                  optimizer = 'nadam',\n",
        "                  metrics = ['accuracy'])"
      ],
      "execution_count": 30,
      "outputs": []
    },
    {
      "cell_type": "markdown",
      "metadata": {
        "id": "Ck0Qst43YZpe"
      },
      "source": [
        "#Посмотрим, из чего у нас состоит итоговая архитектура"
      ]
    },
    {
      "cell_type": "code",
      "metadata": {
        "id": "ndYDYVxInMT3",
        "colab": {
          "base_uri": "https://localhost:8080/"
        },
        "outputId": "573b900b-43c6-4238-c650-cc3d5489e262"
      },
      "source": [
        "cnn.summary()"
      ],
      "execution_count": 31,
      "outputs": [
        {
          "output_type": "stream",
          "name": "stdout",
          "text": [
            "Model: \"sequential_2\"\n",
            "_________________________________________________________________\n",
            " Layer (type)                Output Shape              Param #   \n",
            "=================================================================\n",
            " conv2d_1 (Conv2D)           (None, 28, 28, 64)        640       \n",
            "                                                                 \n",
            " dropout (Dropout)           (None, 28, 28, 64)        0         \n",
            "                                                                 \n",
            " conv2d_2 (Conv2D)           (None, 28, 28, 32)        18464     \n",
            "                                                                 \n",
            " max_pooling2d (MaxPooling2  (None, 14, 14, 32)        0         \n",
            " D)                                                              \n",
            "                                                                 \n",
            " dropout_1 (Dropout)         (None, 14, 14, 32)        0         \n",
            "                                                                 \n",
            " flatten_2 (Flatten)         (None, 6272)              0         \n",
            "                                                                 \n",
            " dense_4 (Dense)             (None, 10)                62730     \n",
            "                                                                 \n",
            "=================================================================\n",
            "Total params: 81834 (319.66 KB)\n",
            "Trainable params: 81834 (319.66 KB)\n",
            "Non-trainable params: 0 (0.00 Byte)\n",
            "_________________________________________________________________\n"
          ]
        }
      ]
    },
    {
      "cell_type": "markdown",
      "metadata": {
        "id": "Wex4jl5eYTJy"
      },
      "source": [
        "### fit натренируем 5 эпох нашу модель с размером батча 128"
      ]
    },
    {
      "cell_type": "code",
      "metadata": {
        "id": "QmYolMLDL1Xm",
        "colab": {
          "base_uri": "https://localhost:8080/"
        },
        "outputId": "160a49ce-2f12-4ab1-e13f-4d08882ce72d"
      },
      "source": [
        "# При помощи fit натренируем 5 эпох нашу модель с размером батча 128\n",
        "# На выходе мы получим натренированную модель и структуру history_cnn,\n",
        "# из которой можно достать значения функции ошибки и метрик качества\n",
        "\n",
        "history_cnn = cnn.fit(X_train, y_train,\n",
        "      batch_size=128,\n",
        "      epochs=5,\n",
        "      validation_data=(X_test, y_test))"
      ],
      "execution_count": 32,
      "outputs": [
        {
          "output_type": "stream",
          "name": "stdout",
          "text": [
            "Epoch 1/5\n",
            "469/469 [==============================] - 13s 19ms/step - loss: 0.3079 - accuracy: 0.9061 - val_loss: 0.1095 - val_accuracy: 0.9666\n",
            "Epoch 2/5\n",
            "469/469 [==============================] - 6s 12ms/step - loss: 0.1257 - accuracy: 0.9625 - val_loss: 0.0719 - val_accuracy: 0.9782\n",
            "Epoch 3/5\n",
            "469/469 [==============================] - 6s 13ms/step - loss: 0.1056 - accuracy: 0.9685 - val_loss: 0.0693 - val_accuracy: 0.9785\n",
            "Epoch 4/5\n",
            "469/469 [==============================] - 7s 16ms/step - loss: 0.0947 - accuracy: 0.9706 - val_loss: 0.0611 - val_accuracy: 0.9806\n",
            "Epoch 5/5\n",
            "469/469 [==============================] - 6s 13ms/step - loss: 0.0891 - accuracy: 0.9727 - val_loss: 0.0610 - val_accuracy: 0.9818\n"
          ]
        }
      ]
    },
    {
      "cell_type": "code",
      "source": [
        "cnn.evaluate(X_test, y_test)"
      ],
      "metadata": {
        "colab": {
          "base_uri": "https://localhost:8080/"
        },
        "id": "o6KEUnZdAHr1",
        "outputId": "93782bb6-bf98-4d9d-f27b-16b36abc736d"
      },
      "execution_count": 33,
      "outputs": [
        {
          "output_type": "stream",
          "name": "stdout",
          "text": [
            "313/313 [==============================] - 1s 3ms/step - loss: 0.0610 - accuracy: 0.9818\n"
          ]
        },
        {
          "output_type": "execute_result",
          "data": {
            "text/plain": [
              "[0.06104050204157829, 0.9818000197410583]"
            ]
          },
          "metadata": {},
          "execution_count": 33
        }
      ]
    },
    {
      "cell_type": "markdown",
      "metadata": {
        "id": "xFWZiryEYI5W"
      },
      "source": [
        "#### history_cnn.history - словарь, содержащий значения функции ошибки и точности на трейновой и тестовой выборках каждую эпоху"
      ]
    },
    {
      "cell_type": "code",
      "metadata": {
        "id": "QUICZr1xGMIT",
        "colab": {
          "base_uri": "https://localhost:8080/"
        },
        "outputId": "69a5523b-be65-4c9e-93e5-10391104a147"
      },
      "source": [
        "history_cnn.history.keys()"
      ],
      "execution_count": 34,
      "outputs": [
        {
          "output_type": "execute_result",
          "data": {
            "text/plain": [
              "dict_keys(['loss', 'accuracy', 'val_loss', 'val_accuracy'])"
            ]
          },
          "metadata": {},
          "execution_count": 34
        }
      ]
    },
    {
      "cell_type": "code",
      "source": [
        "history_cnn.history"
      ],
      "metadata": {
        "id": "5BgALYkHDV3P",
        "colab": {
          "base_uri": "https://localhost:8080/"
        },
        "outputId": "2ee3f6b5-5501-4843-fcd4-b775dfc93df2"
      },
      "execution_count": 35,
      "outputs": [
        {
          "output_type": "execute_result",
          "data": {
            "text/plain": [
              "{'loss': [0.30790194869041443,\n",
              "  0.1256844848394394,\n",
              "  0.10556432604789734,\n",
              "  0.09471488744020462,\n",
              "  0.08908214420080185],\n",
              " 'accuracy': [0.9061333537101746,\n",
              "  0.9625333547592163,\n",
              "  0.9685166478157043,\n",
              "  0.9706000089645386,\n",
              "  0.9727166891098022],\n",
              " 'val_loss': [0.10954810678958893,\n",
              "  0.07188397645950317,\n",
              "  0.06927675008773804,\n",
              "  0.061111126095056534,\n",
              "  0.0610404834151268],\n",
              " 'val_accuracy': [0.9666000008583069,\n",
              "  0.9782000184059143,\n",
              "  0.9785000085830688,\n",
              "  0.9805999994277954,\n",
              "  0.9818000197410583]}"
            ]
          },
          "metadata": {},
          "execution_count": 35
        }
      ]
    },
    {
      "cell_type": "markdown",
      "metadata": {
        "id": "HkBWUguNYCOt"
      },
      "source": [
        "#### графики точности на валидационной (val_acc) и трейновой (acc) выборках\n",
        "в конце каждой эпохи обучения"
      ]
    },
    {
      "cell_type": "code",
      "metadata": {
        "id": "RW1V8_Qtdnf-",
        "colab": {
          "base_uri": "https://localhost:8080/",
          "height": 430
        },
        "outputId": "f65b94ba-7b4b-4975-e197-7d96ca945dfd"
      },
      "source": [
        "# Построим графики точности на валидационной (val_acc) и трейновой (acc) выборках\n",
        "# в конце каждой эпохи обучения\n",
        "\n",
        "plt.plot(history_cnn.history['val_accuracy'], '-o', label='validation accuracy')\n",
        "plt.plot(history_cnn.history['accuracy'], '--s', label='training accuracy')\n",
        "plt.legend();"
      ],
      "execution_count": 36,
      "outputs": [
        {
          "output_type": "display_data",
          "data": {
            "text/plain": [
              "<Figure size 640x480 with 1 Axes>"
            ],
            "image/png": "[encoded data removed]"
          },
          "metadata": {}
        }
      ]
    },
    {
      "cell_type": "markdown",
      "metadata": {
        "id": "vLe2SiWKX42-"
      },
      "source": [
        "#### метрики качества нашей нейросети (функцию ошибки и точность)\n",
        "для тестовой выборки"
      ]
    },
    {
      "cell_type": "code",
      "metadata": {
        "id": "S87Xm1NcqkBV",
        "colab": {
          "base_uri": "https://localhost:8080/"
        },
        "outputId": "26461bbb-2bb7-4537-d0b3-ba50a7e38cbc"
      },
      "source": [
        "# Выведем метрики качества нашей нейросети (функцию ошибки и точность)\n",
        "# для тестовой выборки\n",
        "cnn.evaluate(X_test, y_test)"
      ],
      "execution_count": 37,
      "outputs": [
        {
          "output_type": "stream",
          "name": "stdout",
          "text": [
            "313/313 [==============================] - 1s 3ms/step - loss: 0.0610 - accuracy: 0.9818\n"
          ]
        },
        {
          "output_type": "execute_result",
          "data": {
            "text/plain": [
              "[0.06104050204157829, 0.9818000197410583]"
            ]
          },
          "metadata": {},
          "execution_count": 37
        }
      ]
    },
    {
      "cell_type": "markdown",
      "metadata": {
        "id": "54EsL6PlvcQp"
      },
      "source": [
        "## Выводы\n",
        "\n",
        "\n",
        "\n"
      ]
    },
    {
      "cell_type": "markdown",
      "metadata": {
        "id": "hcttYN6b160g"
      },
      "source": [
        "1.   Мы познакомились с **нейросетями** и основными терминами - **нейрон**, **слои**, **функция активации**, **функция ошибки (loss)**, **обучение/тренировка**, **батч**, **эпоха**...\n",
        "\n",
        "2.   Начали учиться работать с библиотекой для \"дрессировки\" нейронных сетей **`keras`**\n",
        "\n",
        "3.   На примере одного из самых популярных датасетов черно-белых картинок **MNIST** посмотрели, как строить нейросети для задачи **классификации**\n",
        "\n",
        "4.  Узнали разницу между **полносвязными Dense** и **сверточными Conv2D** слоями нейросетей и поняли, что свертки позволяют обучать гораздо более эффективные предсказательные модели на изображениях.\n",
        "Кстати, свёрточная обучилась до конечной точности за 1 проход, а не за 3-5, как полносвязная.\n",
        "\n",
        "5.  Получили представление о **переобучении** нейросетей и узнали один из способов увеличения обобщающей способности модели - **Dropout**\n",
        "\n",
        "6. Познакомились с новыми слоями нейростей - **Flatten**, превращающим картинку в вектор и  **MaxPooling** - уменьшающим размер изображения после свертки\n"
      ]
    },
    {
      "cell_type": "markdown",
      "metadata": {
        "id": "-rUFs2EEr_PD"
      },
      "source": [
        "![Градиентный спуск](https://neurohive.io/wp-content/uploads/2018/11/minimum-funkcii-570x309.png)"
      ]
    },
    {
      "cell_type": "markdown",
      "source": [
        "# Самостоятельная работа"
      ],
      "metadata": {
        "id": "qz028e6wzPRx"
      }
    },
    {
      "cell_type": "markdown",
      "source": [
        "Попробуем улучшить точность работы модели за счет изменения количества эпох и размера батча:"
      ],
      "metadata": {
        "id": "jzOiHYFqsC-Q"
      }
    },
    {
      "cell_type": "code",
      "source": [
        "history_cnn_v2 = cnn.fit(X_train, y_train,\n",
        "      batch_size=450,\n",
        "      epochs=8,\n",
        "      validation_data=(X_test, y_test))"
      ],
      "metadata": {
        "colab": {
          "base_uri": "https://localhost:8080/"
        },
        "id": "Mu-YsH31sDca",
        "outputId": "fda9700a-ccd3-4fda-cfe8-9ef34e39b136"
      },
      "execution_count": 38,
      "outputs": [
        {
          "output_type": "stream",
          "name": "stdout",
          "text": [
            "Epoch 1/8\n",
            "134/134 [==============================] - 6s 38ms/step - loss: 0.0699 - accuracy: 0.9773 - val_loss: 0.0535 - val_accuracy: 0.9831\n",
            "Epoch 2/8\n",
            "134/134 [==============================] - 5s 34ms/step - loss: 0.0664 - accuracy: 0.9789 - val_loss: 0.0594 - val_accuracy: 0.9813\n",
            "Epoch 3/8\n",
            "134/134 [==============================] - 4s 33ms/step - loss: 0.0633 - accuracy: 0.9795 - val_loss: 0.0553 - val_accuracy: 0.9835\n",
            "Epoch 4/8\n",
            "134/134 [==============================] - 5s 35ms/step - loss: 0.0633 - accuracy: 0.9797 - val_loss: 0.0558 - val_accuracy: 0.9832\n",
            "Epoch 5/8\n",
            "134/134 [==============================] - 4s 33ms/step - loss: 0.0596 - accuracy: 0.9809 - val_loss: 0.0583 - val_accuracy: 0.9824\n",
            "Epoch 6/8\n",
            "134/134 [==============================] - 4s 33ms/step - loss: 0.0587 - accuracy: 0.9812 - val_loss: 0.0535 - val_accuracy: 0.9833\n",
            "Epoch 7/8\n",
            "134/134 [==============================] - 5s 34ms/step - loss: 0.0597 - accuracy: 0.9812 - val_loss: 0.0515 - val_accuracy: 0.9841\n",
            "Epoch 8/8\n",
            "134/134 [==============================] - 5s 34ms/step - loss: 0.0546 - accuracy: 0.9823 - val_loss: 0.0504 - val_accuracy: 0.9855\n"
          ]
        }
      ]
    },
    {
      "cell_type": "code",
      "source": [
        "# отобразим словарь, содержащий значения функции ошибки и точности на трейновой и тестовой выборках каждую эпоху\n",
        "\n",
        "history_cnn_v2.history"
      ],
      "metadata": {
        "colab": {
          "base_uri": "https://localhost:8080/"
        },
        "id": "ZgNUxut7sFR0",
        "outputId": "eea05eae-95fe-43ec-c0a3-afb7a7f66342"
      },
      "execution_count": 39,
      "outputs": [
        {
          "output_type": "execute_result",
          "data": {
            "text/plain": [
              "{'loss': [0.06986451894044876,\n",
              "  0.0663594901561737,\n",
              "  0.0632525086402893,\n",
              "  0.06326233595609665,\n",
              "  0.059610798954963684,\n",
              "  0.05869691073894501,\n",
              "  0.059666309505701065,\n",
              "  0.05458403751254082],\n",
              " 'accuracy': [0.977316677570343,\n",
              "  0.978866696357727,\n",
              "  0.9794666767120361,\n",
              "  0.9797000288963318,\n",
              "  0.98089998960495,\n",
              "  0.9811833500862122,\n",
              "  0.981249988079071,\n",
              "  0.9822666645050049],\n",
              " 'val_loss': [0.05351869389414787,\n",
              "  0.05936379358172417,\n",
              "  0.05534032732248306,\n",
              "  0.05578148365020752,\n",
              "  0.05829177424311638,\n",
              "  0.053486891090869904,\n",
              "  0.05146494135260582,\n",
              "  0.05039069056510925],\n",
              " 'val_accuracy': [0.9830999970436096,\n",
              "  0.9812999963760376,\n",
              "  0.9835000038146973,\n",
              "  0.9832000136375427,\n",
              "  0.9824000000953674,\n",
              "  0.983299970626831,\n",
              "  0.9840999841690063,\n",
              "  0.9854999780654907]}"
            ]
          },
          "metadata": {},
          "execution_count": 39
        }
      ]
    },
    {
      "cell_type": "markdown",
      "source": [
        "Видно, что увеличение количества эпох до 8 и размер батча до 450 положительно повлиял на обучение модели: значения ошибки и точности стали лучше\n",
        "\n",
        "Постараемся подобрать параметры для еще более эффективного результата:"
      ],
      "metadata": {
        "id": "97DZ0Z0wsIwN"
      }
    },
    {
      "cell_type": "code",
      "source": [
        "# слегка уменьшим количество эпох и размер батча\n",
        "\n",
        "history_cnn_v3 = cnn.fit(X_train, y_train,\n",
        "      batch_size=380,\n",
        "      epochs=6,\n",
        "      validation_data=(X_test, y_test))"
      ],
      "metadata": {
        "colab": {
          "base_uri": "https://localhost:8080/"
        },
        "id": "be4l7HADsJRC",
        "outputId": "d2685fb0-c695-4639-fe36-c1166c41b13a"
      },
      "execution_count": 40,
      "outputs": [
        {
          "output_type": "stream",
          "name": "stdout",
          "text": [
            "Epoch 1/6\n",
            "158/158 [==============================] - 7s 38ms/step - loss: 0.0578 - accuracy: 0.9819 - val_loss: 0.0556 - val_accuracy: 0.9841\n",
            "Epoch 2/6\n",
            "158/158 [==============================] - 5s 29ms/step - loss: 0.0562 - accuracy: 0.9829 - val_loss: 0.0519 - val_accuracy: 0.9848\n",
            "Epoch 3/6\n",
            "158/158 [==============================] - 5s 29ms/step - loss: 0.0559 - accuracy: 0.9818 - val_loss: 0.0604 - val_accuracy: 0.9817\n",
            "Epoch 4/6\n",
            "158/158 [==============================] - 5s 30ms/step - loss: 0.0559 - accuracy: 0.9825 - val_loss: 0.0667 - val_accuracy: 0.9823\n",
            "Epoch 5/6\n",
            "158/158 [==============================] - 5s 29ms/step - loss: 0.0565 - accuracy: 0.9816 - val_loss: 0.0592 - val_accuracy: 0.9838\n",
            "Epoch 6/6\n",
            "158/158 [==============================] - 5s 29ms/step - loss: 0.0575 - accuracy: 0.9817 - val_loss: 0.0678 - val_accuracy: 0.9823\n"
          ]
        }
      ]
    },
    {
      "cell_type": "code",
      "source": [
        "# отобразим словарь, содержащий значения функции ошибки и точности на трейновой и тестовой выборках каждую эпоху\n",
        "\n",
        "history_cnn_v3.history"
      ],
      "metadata": {
        "colab": {
          "base_uri": "https://localhost:8080/"
        },
        "id": "lsW5YNWnsMpD",
        "outputId": "01008d22-fcf9-4a53-cd5e-c50b3df7ad8e"
      },
      "execution_count": 41,
      "outputs": [
        {
          "output_type": "execute_result",
          "data": {
            "text/plain": [
              "{'loss': [0.057787951081991196,\n",
              "  0.05624872073531151,\n",
              "  0.05592241883277893,\n",
              "  0.05589541420340538,\n",
              "  0.05651644244790077,\n",
              "  0.05748024582862854],\n",
              " 'accuracy': [0.9818833470344543,\n",
              "  0.9829166531562805,\n",
              "  0.9817500114440918,\n",
              "  0.98253333568573,\n",
              "  0.9815833568572998,\n",
              "  0.9816833138465881],\n",
              " 'val_loss': [0.05558416247367859,\n",
              "  0.05185399949550629,\n",
              "  0.06038737669587135,\n",
              "  0.06671775132417679,\n",
              "  0.059218090027570724,\n",
              "  0.06783974915742874],\n",
              " 'val_accuracy': [0.9840999841690063,\n",
              "  0.9847999811172485,\n",
              "  0.9817000031471252,\n",
              "  0.9822999835014343,\n",
              "  0.9837999939918518,\n",
              "  0.9822999835014343]}"
            ]
          },
          "metadata": {},
          "execution_count": 41
        }
      ]
    },
    {
      "cell_type": "markdown",
      "source": [
        "Сравнив текущие показатели ошибки и точности с предыдущими показателями, можно увидеть, что accuracy и val_accuracy улучшились, loss уменьшилась, а val_loss слегка увеличилась. Таким образом мы слегка улучшили нашу модель."
      ],
      "metadata": {
        "id": "5P2De2FgsOzP"
      }
    },
    {
      "cell_type": "code",
      "source": [
        "# сохраним полученную модель\n",
        "\n",
        "cnn.save( 'mnist_model.h5' )"
      ],
      "metadata": {
        "id": "q5t01SzI5pK6"
      },
      "execution_count": 42,
      "outputs": []
    },
    {
      "cell_type": "markdown",
      "source": [
        "ТЕСТИРУЕМ МОДЕЛЬ:\n",
        "для этого нужно загрузить картинку цифры сюда в колаб![цифра8.PNG](data:image/png;base64,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![цифра7.PNG](data:image/png;base64,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![цифра8.PNG](data:image/png;base64,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)))![цифра7.PNG](data:image/png;base64,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). Для лучшего распознавания нужно чтоб картинка была с белым фоном, а цифра написана черным цветом. Например так можно нарисовать в Paint. Вам нужно будет загрузить сюда в колаб картинку и в последней ячейке кода указать её название и формат и выполнить ячейку.(функции ниже были взяты из интернета и они преобразуют картинку к нужному формату для распознавания). (две тестовые картинки с цифрами 7 и 8 уже добавлены, можете их посмотреть)"
      ],
      "metadata": {
        "id": "2kwFnGkX5rcg"
      }
    },
    {
      "cell_type": "code",
      "source": [
        "import numpy as np\n",
        "from io import BytesIO\n",
        "from PIL import Image\n",
        "import requests\n",
        "\n",
        "img_size = (28, 28)\n",
        "img_size_flat = np.prod(img_size)\n",
        "\n",
        "def get_image(url, target_size=img_size, convert_to='L'):\n",
        "    if url.lower().startswith('http'):\n",
        "        r = requests.get(url)\n",
        "        url = BytesIO(r.content)\n",
        "    img = (Image.open(url)\n",
        "               .convert(convert_to)\n",
        "               .resize(target_size))  # Убедитесь, что используете параметр resample=Image.BILINEAR, если не хотите антиалиасинг\n",
        "    img_array = np.array(img, dtype='float32')  # Приведение типа к float32 для последующей нормализации\n",
        "\n",
        "    # Нормализация значений пикселей с диапазона [0, 255] до [0, 1]\n",
        "    img_array /= 255.0\n",
        "\n",
        "    # Добавление размерности канала и размерности batch'a\n",
        "    img_array = np.expand_dims(img_array, axis=-1)\n",
        "    img_array = np.expand_dims(img_array, axis=0)\n",
        "\n",
        "    return img_array"
      ],
      "metadata": {
        "id": "SM7RZg075r8B"
      },
      "execution_count": 43,
      "outputs": []
    },
    {
      "cell_type": "code",
      "source": [
        "from scipy.ndimage.measurements import center_of_mass\n",
        "import math\n",
        "import cv2\n",
        "import numpy as np\n",
        "\n",
        "def getBestShift(img):\n",
        "    cy,cx = center_of_mass(img)\n",
        "\n",
        "    rows,cols = img.shape\n",
        "    shiftx = np.round(cols/2.0-cx).astype(int)\n",
        "    shifty = np.round(rows/2.0-cy).astype(int)\n",
        "\n",
        "    return shiftx,shifty\n",
        "\n",
        "def shift(img,sx,sy):\n",
        "    rows,cols = img.shape\n",
        "    M = np.float32([[1,0,sx],[0,1,sy]])\n",
        "    shifted = cv2.warpAffine(img,M,(cols,rows))\n",
        "    return shifted\n",
        "\n",
        "def rec_digit(img_path):\n",
        "  img = cv2.imread(img_path, cv2.IMREAD_GRAYSCALE)\n",
        "  gray = 255-img\n",
        "  # применяем пороговую обработку\n",
        "  (thresh, gray) = cv2.threshold(gray, 128, 255, cv2.THRESH_BINARY | cv2.THRESH_OTSU)\n",
        "\n",
        "  # удаляем нулевые строки и столбцы\n",
        "  while np.sum(gray[0]) == 0:\n",
        "    gray = gray[1:]\n",
        "  while np.sum(gray[:,0]) == 0:\n",
        "    gray = np.delete(gray,0,1)\n",
        "  while np.sum(gray[-1]) == 0:\n",
        "    gray = gray[:-1]\n",
        "  while np.sum(gray[:,-1]) == 0:\n",
        "    gray = np.delete(gray,-1,1)\n",
        "  rows,cols = gray.shape\n",
        "\n",
        "  # изменяем размер, чтобы помещалось в box 20x20 пикселей\n",
        "  if rows > cols:\n",
        "    factor = 20.0/rows\n",
        "    rows = 20\n",
        "    cols = int(round(cols*factor))\n",
        "    gray = cv2.resize(gray, (cols,rows))\n",
        "  else:\n",
        "    factor = 20.0/cols\n",
        "    cols = 20\n",
        "    rows = int(round(rows*factor))\n",
        "    gray = cv2.resize(gray, (cols, rows))\n",
        "\n",
        "  # расширяем до размера 28x28\n",
        "  colsPadding = (int(math.ceil((28-cols)/2.0)),int(math.floor((28-cols)/2.0)))\n",
        "  rowsPadding = (int(math.ceil((28-rows)/2.0)),int(math.floor((28-rows)/2.0)))\n",
        "  gray = np.lib.pad(gray,(rowsPadding,colsPadding),'constant')\n",
        "\n",
        "  # сдвигаем центр масс\n",
        "  shiftx,shifty = getBestShift(gray)\n",
        "  shifted = shift(gray,shiftx,shifty)\n",
        "  gray = shifted\n",
        "\n",
        "  cv2.imwrite('gray'+ img_path, gray)\n",
        "  img = gray / 255.0\n",
        "  img = np.array(img).reshape(-1, 28, 28, 1)\n",
        "  out = str(np.argmax(model.predict(img)))\n",
        "  return out\n",
        "\n",
        "rec_digit( 'цифра7.PNG' )"
      ],
      "metadata": {
        "colab": {
          "base_uri": "https://localhost:8080/",
          "height": 53
        },
        "id": "-b9UOScb5yTh",
        "outputId": "7cc73917-8319-47d5-d76b-3354efcbac00"
      },
      "execution_count": 45,
      "outputs": [
        {
          "output_type": "stream",
          "name": "stdout",
          "text": [
            "1/1 [==============================] - 0s 45ms/step\n"
          ]
        },
        {
          "output_type": "execute_result",
          "data": {
            "text/plain": [
              "'7'"
            ],
            "application/vnd.google.colaboratory.intrinsic+json": {
              "type": "string"
            }
          },
          "metadata": {},
          "execution_count": 45
        }
      ]
    },
    {
      "cell_type": "markdown",
      "source": [],
      "metadata": {
        "id": "_Ma0GMIVVX1d"
      }
    }
  ]
}